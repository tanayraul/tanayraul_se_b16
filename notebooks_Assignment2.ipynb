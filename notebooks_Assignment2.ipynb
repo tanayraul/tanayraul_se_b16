{
  "metadata": {
    "kernelspec": {
      "name": "python",
      "display_name": "Python (Pyodide)",
      "language": "python"
    },
    "language_info": {
      "codemirror_mode": {
        "name": "python",
        "version": 3
      },
      "file_extension": ".py",
      "mimetype": "text/x-python",
      "name": "python",
      "nbconvert_exporter": "python",
      "pygments_lexer": "ipython3",
      "version": "3.8"
    }
  },
  "nbformat_minor": 5,
  "nbformat": 4,
  "cells": [
    {
      "cell_type": "raw",
      "source": "Starting with Numpy",
      "metadata": {},
      "id": "c2e17692-b1aa-4d74-b245-7deffe0f7149"
    },
    {
      "cell_type": "code",
      "source": "#load the library and check its version, just to make sure we aren't using an older version\nimport numpy as np\nnp.__version__\n'1.12.1'",
      "metadata": {
        "trusted": true
      },
      "execution_count": 38,
      "outputs": [
        {
          "execution_count": 38,
          "output_type": "execute_result",
          "data": {
            "text/plain": "'1.12.1'"
          },
          "metadata": {}
        }
      ],
      "id": "b81abea9-7b59-45b2-99a6-848519a23986"
    },
    {
      "cell_type": "code",
      "source": "#create a list comprising numbers from 0 to 9\nL = list(range(10))",
      "metadata": {
        "trusted": true
      },
      "execution_count": 39,
      "outputs": [],
      "id": "94f76661-aacb-4e73-b9d2-51b968e925bd"
    },
    {
      "cell_type": "code",
      "source": "#converting integers to string - this style of handling lists is known as list comprehension.\n#List comprehension offers a versatile way to handle list manipulations tasks easily. We'll learn about them in future tutorials. Here's an example.  \n\n[str(c) for c in L]\n['0', '1', '2', '3', '4', '5', '6', '7', '8', '9']\n\n[type(item) for item in L]\n[int, int, int, int, int, int, int, int, int, int]",
      "metadata": {
        "trusted": true
      },
      "execution_count": 40,
      "outputs": [
        {
          "execution_count": 40,
          "output_type": "execute_result",
          "data": {
            "text/plain": "[int, int, int, int, int, int, int, int, int, int]"
          },
          "metadata": {}
        }
      ],
      "id": "e20afa4e-6c6c-46a9-9acf-78694e009b6f"
    },
    {
      "cell_type": "markdown",
      "source": "Creating Arrays",
      "metadata": {},
      "id": "ed637671-679f-43c5-a46f-a7fc776243f9"
    },
    {
      "cell_type": "raw",
      "source": "Numpy arrays are homogeneous in nature, i.e., they comprise one data type (integer, float, double, etc.) unlike lists.",
      "metadata": {},
      "id": "3b35fb0b-956d-4319-97c1-6d7db7ef3097"
    },
    {
      "cell_type": "code",
      "source": "#creating arrays\nnp.zeros(10, dtype='int')\narray([0, 0, 0, 0, 0, 0, 0, 0, 0, 0])\n\n\n#creating a 3 row x 5 column matrix\nnp.ones((3,5), dtype=float)\narray([[ 1.,  1.,  1.,  1.,  1.],\n      [ 1.,  1.,  1.,  1.,  1.],\n      [ 1.,  1.,  1.,  1.,  1.]])\n\n\n#creating a matrix with a predefined value\nnp.full((3,5),1.23)\narray([[ 1.23,  1.23,  1.23,  1.23,  1.23],\n      [ 1.23,  1.23,  1.23,  1.23,  1.23],\n      [ 1.23,  1.23,  1.23,  1.23,  1.23]])\n\n\n#create an array with a set sequence\nnp.arange(0, 20, 2)\narray([0, 2, 4, 6, 8,10,12,14,16,18])\n\n\n#create an array of even space between the given range of values\nnp.linspace(0, 1, 5)\narray([ 0., 0.25, 0.5 , 0.75, 1.])\n\n\n#create a 3x3 array with mean 0 and standard deviation 1 in a given dimension\nnp.random.normal(0, 1, (3,3))\narray([[ 0.72432142, -0.90024075,  0.27363808],\n      [ 0.88426129,  1.45096856, -1.03547109],\n      [-0.42930994, -1.02284441, -1.59753603]])\n\n\n#create an identity matrix\nnp.eye(3)\narray([[ 1.,  0.,  0.],\n      [ 0.,  1.,  0.],\n      [ 0.,  0.,  1.]])\n\n\n#set a random seed\nnp.random.seed(0)\n\n\nx1 = np.random.randint(10, size=6) #one dimension\nx2 = np.random.randint(10, size=(3,4)) #two dimension\nx3 = np.random.randint(10, size=(3,4,5)) #three dimension\n\n\nprint(\"x3 ndim:\", x3.ndim)\nprint(\"x3 shape:\", x3.shape)\nprint(\"x3 size: \", x3.size)\n('x3 ndim:', 3)\n('x3 shape:', (3, 4, 5))\n('x3 size: ', 60)",
      "metadata": {
        "trusted": true
      },
      "execution_count": null,
      "outputs": [],
      "id": "76c49c8c-d30f-4b5f-8cc1-fefc495e8e49"
    },
    {
      "cell_type": "raw",
      "source": "Array Indexing\nThe important thing to remember is that indexing in python starts at zero.",
      "metadata": {},
      "id": "cbd5ade5-b853-44b4-8c8c-43de8de997c2"
    },
    {
      "cell_type": "code",
      "source": "x1 = np.array([4, 3, 4, 4, 8, 4])\nx1\narray([4, 3, 4, 4, 8, 4])\n\n#assess value to index zero\nx1[0]\n4\n\n#assess fifth value\nx1[4]\n8\n\n#get the last value\nx1[-1]\n4\n\n#get the second last value\nx1[-2]\n8\n\n#in a multidimensional array, we need to specify row and column index\nx2\narray([[3, 7, 5, 5],\n      [0, 1, 5, 9],\n      [3, 0, 5, 0]])\n\n\n#1st row and 2nd column value\nx2[2,3]\n0\n\n#3rd row and last value from the 3rd column\nx2[2,-1]\n0\n\n\n#replace value at 0,0 index\nx2[0,0] = 12\nx2\narray([[12,  7,  5,  5],\n      [ 0,  1,  5,  9],\n      [ 3,  0,  5,  0]])",
      "metadata": {
        "trusted": true
      },
      "execution_count": null,
      "outputs": [],
      "id": "6c47d627-0c76-45d5-97a0-d20339aa1900"
    },
    {
      "cell_type": "raw",
      "source": "Array Slicing\nNow, we'll learn to access multiple or a range of elements from an array.",
      "metadata": {},
      "id": "bf3552e9-8d3d-40eb-a49f-07b25bbf5639"
    },
    {
      "cell_type": "code",
      "source": "x = np.arange(10)\nx\narray([0, 1, 2, 3, 4, 5, 6, 7, 8, 9])\n\n\n#from start to 4th position\nx[:5]\narray([0, 1, 2, 3, 4])\n\n\n#from 4th position to end\nx[4:]\narray([4, 5, 6, 7, 8, 9])\n\n\n#from 4th to 6th position\nx[4:7]\narray([4, 5, 6])\n\n\n#return elements at even place\nx[ : : 2]\narray([0, 2, 4, 6, 8])\n\n\n#return elements from first position step by two\nx[1::2]\narray([1, 3, 5, 7, 9])\n\n\n#reverse the array\nx[::-1]\narray([9, 8, 7, 6, 5, 4, 3, 2, 1, 0])",
      "metadata": {
        "trusted": true
      },
      "execution_count": null,
      "outputs": [],
      "id": "455e6474-1ab7-4a70-b436-1a8e252ae4c1"
    },
    {
      "cell_type": "raw",
      "source": "Array Concatenation\nMany a time, we are required to combine different arrays. So, instead of typing each of their elements manually, you can use array concatenation to handle such tasks easily.",
      "metadata": {},
      "id": "e4b4bbd8-e224-4204-81b5-22c26b3110f0"
    },
    {
      "cell_type": "code",
      "source": "#You can concatenate two or more arrays at once.\nx = np.array([1, 2, 3])\ny = np.array([3, 2, 1])\nz = [21,21,21]\nnp.concatenate([x, y,z])\narray([ 1,  2,  3,  3,  2,  1, 21, 21, 21])\n\n\n#You can also use this function to create 2-dimensional arrays.\ngrid = np.array([[1,2,3],[4,5,6]])\nnp.concatenate([grid,grid])\narray([[1, 2, 3],\n      [4, 5, 6],\n      [1, 2, 3],\n      [4, 5, 6]])\n\n\n#Using its axis parameter, you can define row-wise or column-wise matrix\nnp.concatenate([grid,grid],axis=1)\narray([[1, 2, 3, 1, 2, 3],\n      [4, 5, 6, 4, 5, 6]])",
      "metadata": {
        "trusted": true
      },
      "execution_count": null,
      "outputs": [],
      "id": "b93a643f-ca40-4590-8b2c-4dc2841a157b"
    },
    {
      "cell_type": "raw",
      "source": "Until now, we used the concatenation function of arrays of equal dimension. But, what if you are required to combine a 2D array with 1D array? In such situations, np.concatenate might not be the best option to use. Instead, you can use np.vstack or np.hstack to do the task. Let's see how!",
      "metadata": {},
      "id": "f4ad4dc5-013d-4c79-bdab-13b4f5b7d156"
    },
    {
      "cell_type": "code",
      "source": "x = np.array([3,4,5])\ngrid = np.array([[1,2,3],[17,18,19]])\nnp.vstack([x,grid])\narray([[ 3,  4,  5],\n      [ 1,  2,  3],\n      [17, 18, 19]])\n\n\n#Similarly, you can add an array using np.hstack\nz = np.array([[9],[9]])\nnp.hstack([grid,z])\narray([[ 1,  2,  3,  9],\n      [17, 18, 19,  9]])",
      "metadata": {
        "trusted": true
      },
      "execution_count": null,
      "outputs": [],
      "id": "b6f309bc-8555-46ed-b29c-2d255c8265f6"
    },
    {
      "cell_type": "raw",
      "source": "In addition to the functions we learned above, there are several other mathematical functions available in the numpy library such as sum, divide, multiple, abs, power, mod, sin, cos, tan, log, var, min, mean, max, etc. which you can be used to perform basic arithmetic calculations. Feel free to refer to numpy documentation for more information on such functions.\n\nLet's move on to pandas now. Make sure you following each line below because it'll help you in doing data manipulation using pandas.",
      "metadata": {},
      "id": "503a774a-c092-41ad-abc5-8bc59378cf1d"
    },
    {
      "cell_type": "raw",
      "source": "Let's start with Pandas",
      "metadata": {},
      "id": "e8bd7e59-13d4-4b3e-a7c2-98f76fb3c95f"
    },
    {
      "cell_type": "code",
      "source": "#load library - pd is just an alias. I used pd because it's short and literally abbreviates pandas.\n#You can use any name as an alias. \nimport pandas as pd\n\n#create a data frame - dictionary is used here where keys get converted to column names and values to row values.\ndata = pd.DataFrame({'Country': ['Russia','Colombia','Chile','Equador','Nigeria'],\n                    'Rank':[121,40,100,130,11]})\ndata\n\n",
      "metadata": {
        "trusted": true
      },
      "execution_count": 46,
      "outputs": [
        {
          "execution_count": 46,
          "output_type": "execute_result",
          "data": {
            "text/plain": "    Country  Rank\n0    Russia   121\n1  Colombia    40\n2     Chile   100\n3   Equador   130\n4   Nigeria    11",
            "text/html": "<div>\n<style scoped>\n    .dataframe tbody tr th:only-of-type {\n        vertical-align: middle;\n    }\n\n    .dataframe tbody tr th {\n        vertical-align: top;\n    }\n\n    .dataframe thead th {\n        text-align: right;\n    }\n</style>\n<table border=\"1\" class=\"dataframe\">\n  <thead>\n    <tr style=\"text-align: right;\">\n      <th></th>\n      <th>Country</th>\n      <th>Rank</th>\n    </tr>\n  </thead>\n  <tbody>\n    <tr>\n      <th>0</th>\n      <td>Russia</td>\n      <td>121</td>\n    </tr>\n    <tr>\n      <th>1</th>\n      <td>Colombia</td>\n      <td>40</td>\n    </tr>\n    <tr>\n      <th>2</th>\n      <td>Chile</td>\n      <td>100</td>\n    </tr>\n    <tr>\n      <th>3</th>\n      <td>Equador</td>\n      <td>130</td>\n    </tr>\n    <tr>\n      <th>4</th>\n      <td>Nigeria</td>\n      <td>11</td>\n    </tr>\n  </tbody>\n</table>\n</div>"
          },
          "metadata": {}
        }
      ],
      "id": "12c37e51-bc7a-4e74-87a2-cf31c7dc0295"
    },
    {
      "cell_type": "code",
      "source": "#We can do a quick analysis of any data set using:\ndata.describe()\n",
      "metadata": {
        "trusted": true
      },
      "execution_count": 47,
      "outputs": [
        {
          "execution_count": 47,
          "output_type": "execute_result",
          "data": {
            "text/plain": "             Rank\ncount    5.000000\nmean    80.400000\nstd     52.300096\nmin     11.000000\n25%     40.000000\n50%    100.000000\n75%    121.000000\nmax    130.000000",
            "text/html": "<div>\n<style scoped>\n    .dataframe tbody tr th:only-of-type {\n        vertical-align: middle;\n    }\n\n    .dataframe tbody tr th {\n        vertical-align: top;\n    }\n\n    .dataframe thead th {\n        text-align: right;\n    }\n</style>\n<table border=\"1\" class=\"dataframe\">\n  <thead>\n    <tr style=\"text-align: right;\">\n      <th></th>\n      <th>Rank</th>\n    </tr>\n  </thead>\n  <tbody>\n    <tr>\n      <th>count</th>\n      <td>5.000000</td>\n    </tr>\n    <tr>\n      <th>mean</th>\n      <td>80.400000</td>\n    </tr>\n    <tr>\n      <th>std</th>\n      <td>52.300096</td>\n    </tr>\n    <tr>\n      <th>min</th>\n      <td>11.000000</td>\n    </tr>\n    <tr>\n      <th>25%</th>\n      <td>40.000000</td>\n    </tr>\n    <tr>\n      <th>50%</th>\n      <td>100.000000</td>\n    </tr>\n    <tr>\n      <th>75%</th>\n      <td>121.000000</td>\n    </tr>\n    <tr>\n      <th>max</th>\n      <td>130.000000</td>\n    </tr>\n  </tbody>\n</table>\n</div>"
          },
          "metadata": {}
        }
      ],
      "id": "8bc7d712-b8de-4f6e-921f-d1495cc5fe5e"
    },
    {
      "cell_type": "code",
      "source": "#Among other things, it shows the data set has 5 rows and 2 columns with their respective names.\ndata.info()\nclass 'pandas.core.frame.DataFrame'\n  RangeIndex: 5 entries, 0 to 4\n  Data columns (total 2 columns):\n  Country    5 non-null object\n  Rank       5 non-null int64\n  dtypes: int64(1), object(1)\n  memory usage: 152.0+ bytes\n\n\n#Let's create another data frame.\ndata = pd.DataFrame({'group':['a', 'a', 'a', 'b','b', 'b', 'c', 'c','c'],'ounces':[4, 3, 12, 6, 7.5, 8, 3, 5, 6]})\ndata",
      "metadata": {
        "trusted": true
      },
      "execution_count": null,
      "outputs": [],
      "id": "d77edaee-d57d-4cd9-9509-ef2a09857f35"
    },
    {
      "cell_type": "code",
      "source": "#Let's sort the data frame by ounces - inplace = True will make changes to the data\ndata.sort_values(by=['ounces'],ascending=True,inplace=False)",
      "metadata": {
        "trusted": true
      },
      "execution_count": null,
      "outputs": [],
      "id": "cd80b7f6-5fa7-4333-a613-fe53b5493457"
    },
    {
      "cell_type": "code",
      "source": "data.sort_values(by=['group','ounces'],ascending=[True,False],inplace=False)",
      "metadata": {
        "trusted": true
      },
      "execution_count": null,
      "outputs": [],
      "id": "24d9cc60-b92b-468b-9f9b-e6b37b0bee2c"
    },
    {
      "cell_type": "code",
      "source": "#create another data with duplicated rows\ndata = pd.DataFrame({'k1':['one']*3 + ['two']*4, 'k2':[3,2,1,3,3,4,4]})\ndata",
      "metadata": {
        "trusted": true
      },
      "execution_count": 51,
      "outputs": [
        {
          "execution_count": 51,
          "output_type": "execute_result",
          "data": {
            "text/plain": "    k1  k2\n0  one   3\n1  one   2\n2  one   1\n3  two   3\n4  two   3\n5  two   4\n6  two   4",
            "text/html": "<div>\n<style scoped>\n    .dataframe tbody tr th:only-of-type {\n        vertical-align: middle;\n    }\n\n    .dataframe tbody tr th {\n        vertical-align: top;\n    }\n\n    .dataframe thead th {\n        text-align: right;\n    }\n</style>\n<table border=\"1\" class=\"dataframe\">\n  <thead>\n    <tr style=\"text-align: right;\">\n      <th></th>\n      <th>k1</th>\n      <th>k2</th>\n    </tr>\n  </thead>\n  <tbody>\n    <tr>\n      <th>0</th>\n      <td>one</td>\n      <td>3</td>\n    </tr>\n    <tr>\n      <th>1</th>\n      <td>one</td>\n      <td>2</td>\n    </tr>\n    <tr>\n      <th>2</th>\n      <td>one</td>\n      <td>1</td>\n    </tr>\n    <tr>\n      <th>3</th>\n      <td>two</td>\n      <td>3</td>\n    </tr>\n    <tr>\n      <th>4</th>\n      <td>two</td>\n      <td>3</td>\n    </tr>\n    <tr>\n      <th>5</th>\n      <td>two</td>\n      <td>4</td>\n    </tr>\n    <tr>\n      <th>6</th>\n      <td>two</td>\n      <td>4</td>\n    </tr>\n  </tbody>\n</table>\n</div>"
          },
          "metadata": {}
        }
      ],
      "id": "761e5223-2869-4f94-9a64-d79506842fe4"
    },
    {
      "cell_type": "code",
      "source": "#sort values \ndata.sort_values(by='k2')",
      "metadata": {
        "trusted": true
      },
      "execution_count": 52,
      "outputs": [
        {
          "execution_count": 52,
          "output_type": "execute_result",
          "data": {
            "text/plain": "    k1  k2\n2  one   1\n1  one   2\n0  one   3\n3  two   3\n4  two   3\n5  two   4\n6  two   4",
            "text/html": "<div>\n<style scoped>\n    .dataframe tbody tr th:only-of-type {\n        vertical-align: middle;\n    }\n\n    .dataframe tbody tr th {\n        vertical-align: top;\n    }\n\n    .dataframe thead th {\n        text-align: right;\n    }\n</style>\n<table border=\"1\" class=\"dataframe\">\n  <thead>\n    <tr style=\"text-align: right;\">\n      <th></th>\n      <th>k1</th>\n      <th>k2</th>\n    </tr>\n  </thead>\n  <tbody>\n    <tr>\n      <th>2</th>\n      <td>one</td>\n      <td>1</td>\n    </tr>\n    <tr>\n      <th>1</th>\n      <td>one</td>\n      <td>2</td>\n    </tr>\n    <tr>\n      <th>0</th>\n      <td>one</td>\n      <td>3</td>\n    </tr>\n    <tr>\n      <th>3</th>\n      <td>two</td>\n      <td>3</td>\n    </tr>\n    <tr>\n      <th>4</th>\n      <td>two</td>\n      <td>3</td>\n    </tr>\n    <tr>\n      <th>5</th>\n      <td>two</td>\n      <td>4</td>\n    </tr>\n    <tr>\n      <th>6</th>\n      <td>two</td>\n      <td>4</td>\n    </tr>\n  </tbody>\n</table>\n</div>"
          },
          "metadata": {}
        }
      ],
      "id": "cb88d5fa-49a4-4acb-b51b-387d8ffcef8d"
    },
    {
      "cell_type": "code",
      "source": "#remove duplicates - ta da! \ndata.drop_duplicates()",
      "metadata": {
        "trusted": true
      },
      "execution_count": 53,
      "outputs": [
        {
          "execution_count": 53,
          "output_type": "execute_result",
          "data": {
            "text/plain": "    k1  k2\n0  one   3\n1  one   2\n2  one   1\n3  two   3\n5  two   4",
            "text/html": "<div>\n<style scoped>\n    .dataframe tbody tr th:only-of-type {\n        vertical-align: middle;\n    }\n\n    .dataframe tbody tr th {\n        vertical-align: top;\n    }\n\n    .dataframe thead th {\n        text-align: right;\n    }\n</style>\n<table border=\"1\" class=\"dataframe\">\n  <thead>\n    <tr style=\"text-align: right;\">\n      <th></th>\n      <th>k1</th>\n      <th>k2</th>\n    </tr>\n  </thead>\n  <tbody>\n    <tr>\n      <th>0</th>\n      <td>one</td>\n      <td>3</td>\n    </tr>\n    <tr>\n      <th>1</th>\n      <td>one</td>\n      <td>2</td>\n    </tr>\n    <tr>\n      <th>2</th>\n      <td>one</td>\n      <td>1</td>\n    </tr>\n    <tr>\n      <th>3</th>\n      <td>two</td>\n      <td>3</td>\n    </tr>\n    <tr>\n      <th>5</th>\n      <td>two</td>\n      <td>4</td>\n    </tr>\n  </tbody>\n</table>\n</div>"
          },
          "metadata": {}
        }
      ],
      "id": "caadc5a9-3f98-4748-b889-69eadcb99951"
    },
    {
      "cell_type": "code",
      "source": "data.drop_duplicates(subset='k1')",
      "metadata": {
        "trusted": true
      },
      "execution_count": 54,
      "outputs": [
        {
          "execution_count": 54,
          "output_type": "execute_result",
          "data": {
            "text/plain": "    k1  k2\n0  one   3\n3  two   3",
            "text/html": "<div>\n<style scoped>\n    .dataframe tbody tr th:only-of-type {\n        vertical-align: middle;\n    }\n\n    .dataframe tbody tr th {\n        vertical-align: top;\n    }\n\n    .dataframe thead th {\n        text-align: right;\n    }\n</style>\n<table border=\"1\" class=\"dataframe\">\n  <thead>\n    <tr style=\"text-align: right;\">\n      <th></th>\n      <th>k1</th>\n      <th>k2</th>\n    </tr>\n  </thead>\n  <tbody>\n    <tr>\n      <th>0</th>\n      <td>one</td>\n      <td>3</td>\n    </tr>\n    <tr>\n      <th>3</th>\n      <td>two</td>\n      <td>3</td>\n    </tr>\n  </tbody>\n</table>\n</div>"
          },
          "metadata": {}
        }
      ],
      "id": "b9365ba2-8d87-4a5a-9574-32c00db3bceb"
    },
    {
      "cell_type": "code",
      "source": "data = pd.DataFrame({'food': ['bacon', 'pulled pork', 'bacon', 'Pastrami','corned beef', 'Bacon', 'pastrami', 'honey ham','nova lox'],\n                 'ounces': [4, 3, 12, 6, 7.5, 8, 3, 5, 6]})\ndata",
      "metadata": {
        "trusted": true
      },
      "execution_count": 55,
      "outputs": [
        {
          "execution_count": 55,
          "output_type": "execute_result",
          "data": {
            "text/plain": "          food  ounces\n0        bacon     4.0\n1  pulled pork     3.0\n2        bacon    12.0\n3     Pastrami     6.0\n4  corned beef     7.5\n5        Bacon     8.0\n6     pastrami     3.0\n7    honey ham     5.0\n8     nova lox     6.0",
            "text/html": "<div>\n<style scoped>\n    .dataframe tbody tr th:only-of-type {\n        vertical-align: middle;\n    }\n\n    .dataframe tbody tr th {\n        vertical-align: top;\n    }\n\n    .dataframe thead th {\n        text-align: right;\n    }\n</style>\n<table border=\"1\" class=\"dataframe\">\n  <thead>\n    <tr style=\"text-align: right;\">\n      <th></th>\n      <th>food</th>\n      <th>ounces</th>\n    </tr>\n  </thead>\n  <tbody>\n    <tr>\n      <th>0</th>\n      <td>bacon</td>\n      <td>4.0</td>\n    </tr>\n    <tr>\n      <th>1</th>\n      <td>pulled pork</td>\n      <td>3.0</td>\n    </tr>\n    <tr>\n      <th>2</th>\n      <td>bacon</td>\n      <td>12.0</td>\n    </tr>\n    <tr>\n      <th>3</th>\n      <td>Pastrami</td>\n      <td>6.0</td>\n    </tr>\n    <tr>\n      <th>4</th>\n      <td>corned beef</td>\n      <td>7.5</td>\n    </tr>\n    <tr>\n      <th>5</th>\n      <td>Bacon</td>\n      <td>8.0</td>\n    </tr>\n    <tr>\n      <th>6</th>\n      <td>pastrami</td>\n      <td>3.0</td>\n    </tr>\n    <tr>\n      <th>7</th>\n      <td>honey ham</td>\n      <td>5.0</td>\n    </tr>\n    <tr>\n      <th>8</th>\n      <td>nova lox</td>\n      <td>6.0</td>\n    </tr>\n  </tbody>\n</table>\n</div>"
          },
          "metadata": {}
        }
      ],
      "id": "dfa5b345-52db-4273-85fc-081115e86528"
    },
    {
      "cell_type": "code",
      "source": "meat_to_animal = {\n'bacon': 'pig',\n'pulled pork': 'pig',\n'pastrami': 'cow',\n'corned beef': 'cow',\n'honey ham': 'pig',\n'nova lox': 'salmon'\n}\n\ndef meat_2_animal(series):\n    if series['food'] == 'bacon':\n        return 'pig'\n    elif series['food'] == 'pulled pork':\n        return 'pig'\n    elif series['food'] == 'pastrami':\n        return 'cow'\n    elif series['food'] == 'corned beef':\n        return 'cow'\n    elif series['food'] == 'honey ham':\n        return 'pig'\n    else:\n        return 'salmon'\n\n\n#create a new variable\ndata['animal'] = data['food'].map(str.lower).map(meat_to_animal)\ndata",
      "metadata": {
        "trusted": true
      },
      "execution_count": 56,
      "outputs": [
        {
          "execution_count": 56,
          "output_type": "execute_result",
          "data": {
            "text/plain": "          food  ounces  animal\n0        bacon     4.0     pig\n1  pulled pork     3.0     pig\n2        bacon    12.0     pig\n3     Pastrami     6.0     cow\n4  corned beef     7.5     cow\n5        Bacon     8.0     pig\n6     pastrami     3.0     cow\n7    honey ham     5.0     pig\n8     nova lox     6.0  salmon",
            "text/html": "<div>\n<style scoped>\n    .dataframe tbody tr th:only-of-type {\n        vertical-align: middle;\n    }\n\n    .dataframe tbody tr th {\n        vertical-align: top;\n    }\n\n    .dataframe thead th {\n        text-align: right;\n    }\n</style>\n<table border=\"1\" class=\"dataframe\">\n  <thead>\n    <tr style=\"text-align: right;\">\n      <th></th>\n      <th>food</th>\n      <th>ounces</th>\n      <th>animal</th>\n    </tr>\n  </thead>\n  <tbody>\n    <tr>\n      <th>0</th>\n      <td>bacon</td>\n      <td>4.0</td>\n      <td>pig</td>\n    </tr>\n    <tr>\n      <th>1</th>\n      <td>pulled pork</td>\n      <td>3.0</td>\n      <td>pig</td>\n    </tr>\n    <tr>\n      <th>2</th>\n      <td>bacon</td>\n      <td>12.0</td>\n      <td>pig</td>\n    </tr>\n    <tr>\n      <th>3</th>\n      <td>Pastrami</td>\n      <td>6.0</td>\n      <td>cow</td>\n    </tr>\n    <tr>\n      <th>4</th>\n      <td>corned beef</td>\n      <td>7.5</td>\n      <td>cow</td>\n    </tr>\n    <tr>\n      <th>5</th>\n      <td>Bacon</td>\n      <td>8.0</td>\n      <td>pig</td>\n    </tr>\n    <tr>\n      <th>6</th>\n      <td>pastrami</td>\n      <td>3.0</td>\n      <td>cow</td>\n    </tr>\n    <tr>\n      <th>7</th>\n      <td>honey ham</td>\n      <td>5.0</td>\n      <td>pig</td>\n    </tr>\n    <tr>\n      <th>8</th>\n      <td>nova lox</td>\n      <td>6.0</td>\n      <td>salmon</td>\n    </tr>\n  </tbody>\n</table>\n</div>"
          },
          "metadata": {}
        }
      ],
      "id": "4aff6c81-9186-448f-9c6a-77c3bbf78c5f"
    },
    {
      "cell_type": "code",
      "source": "#another way of doing it is: convert the food values to the lower case and apply the function\nlower = lambda x: x.lower()\ndata['food'] = data['food'].apply(lower)\ndata['animal2'] = data.apply(meat_2_animal, axis='columns')\ndata",
      "metadata": {
        "trusted": true
      },
      "execution_count": 57,
      "outputs": [
        {
          "execution_count": 57,
          "output_type": "execute_result",
          "data": {
            "text/plain": "          food  ounces  animal animal2\n0        bacon     4.0     pig     pig\n1  pulled pork     3.0     pig     pig\n2        bacon    12.0     pig     pig\n3     pastrami     6.0     cow     cow\n4  corned beef     7.5     cow     cow\n5        bacon     8.0     pig     pig\n6     pastrami     3.0     cow     cow\n7    honey ham     5.0     pig     pig\n8     nova lox     6.0  salmon  salmon",
            "text/html": "<div>\n<style scoped>\n    .dataframe tbody tr th:only-of-type {\n        vertical-align: middle;\n    }\n\n    .dataframe tbody tr th {\n        vertical-align: top;\n    }\n\n    .dataframe thead th {\n        text-align: right;\n    }\n</style>\n<table border=\"1\" class=\"dataframe\">\n  <thead>\n    <tr style=\"text-align: right;\">\n      <th></th>\n      <th>food</th>\n      <th>ounces</th>\n      <th>animal</th>\n      <th>animal2</th>\n    </tr>\n  </thead>\n  <tbody>\n    <tr>\n      <th>0</th>\n      <td>bacon</td>\n      <td>4.0</td>\n      <td>pig</td>\n      <td>pig</td>\n    </tr>\n    <tr>\n      <th>1</th>\n      <td>pulled pork</td>\n      <td>3.0</td>\n      <td>pig</td>\n      <td>pig</td>\n    </tr>\n    <tr>\n      <th>2</th>\n      <td>bacon</td>\n      <td>12.0</td>\n      <td>pig</td>\n      <td>pig</td>\n    </tr>\n    <tr>\n      <th>3</th>\n      <td>pastrami</td>\n      <td>6.0</td>\n      <td>cow</td>\n      <td>cow</td>\n    </tr>\n    <tr>\n      <th>4</th>\n      <td>corned beef</td>\n      <td>7.5</td>\n      <td>cow</td>\n      <td>cow</td>\n    </tr>\n    <tr>\n      <th>5</th>\n      <td>bacon</td>\n      <td>8.0</td>\n      <td>pig</td>\n      <td>pig</td>\n    </tr>\n    <tr>\n      <th>6</th>\n      <td>pastrami</td>\n      <td>3.0</td>\n      <td>cow</td>\n      <td>cow</td>\n    </tr>\n    <tr>\n      <th>7</th>\n      <td>honey ham</td>\n      <td>5.0</td>\n      <td>pig</td>\n      <td>pig</td>\n    </tr>\n    <tr>\n      <th>8</th>\n      <td>nova lox</td>\n      <td>6.0</td>\n      <td>salmon</td>\n      <td>salmon</td>\n    </tr>\n  </tbody>\n</table>\n</div>"
          },
          "metadata": {}
        }
      ],
      "id": "b12907c8-9069-495b-91de-347f48415369"
    },
    {
      "cell_type": "code",
      "source": "data.assign(new_variable = data['ounces']*10)",
      "metadata": {
        "trusted": true
      },
      "execution_count": 58,
      "outputs": [
        {
          "execution_count": 58,
          "output_type": "execute_result",
          "data": {
            "text/plain": "          food  ounces  animal animal2  new_variable\n0        bacon     4.0     pig     pig          40.0\n1  pulled pork     3.0     pig     pig          30.0\n2        bacon    12.0     pig     pig         120.0\n3     pastrami     6.0     cow     cow          60.0\n4  corned beef     7.5     cow     cow          75.0\n5        bacon     8.0     pig     pig          80.0\n6     pastrami     3.0     cow     cow          30.0\n7    honey ham     5.0     pig     pig          50.0\n8     nova lox     6.0  salmon  salmon          60.0",
            "text/html": "<div>\n<style scoped>\n    .dataframe tbody tr th:only-of-type {\n        vertical-align: middle;\n    }\n\n    .dataframe tbody tr th {\n        vertical-align: top;\n    }\n\n    .dataframe thead th {\n        text-align: right;\n    }\n</style>\n<table border=\"1\" class=\"dataframe\">\n  <thead>\n    <tr style=\"text-align: right;\">\n      <th></th>\n      <th>food</th>\n      <th>ounces</th>\n      <th>animal</th>\n      <th>animal2</th>\n      <th>new_variable</th>\n    </tr>\n  </thead>\n  <tbody>\n    <tr>\n      <th>0</th>\n      <td>bacon</td>\n      <td>4.0</td>\n      <td>pig</td>\n      <td>pig</td>\n      <td>40.0</td>\n    </tr>\n    <tr>\n      <th>1</th>\n      <td>pulled pork</td>\n      <td>3.0</td>\n      <td>pig</td>\n      <td>pig</td>\n      <td>30.0</td>\n    </tr>\n    <tr>\n      <th>2</th>\n      <td>bacon</td>\n      <td>12.0</td>\n      <td>pig</td>\n      <td>pig</td>\n      <td>120.0</td>\n    </tr>\n    <tr>\n      <th>3</th>\n      <td>pastrami</td>\n      <td>6.0</td>\n      <td>cow</td>\n      <td>cow</td>\n      <td>60.0</td>\n    </tr>\n    <tr>\n      <th>4</th>\n      <td>corned beef</td>\n      <td>7.5</td>\n      <td>cow</td>\n      <td>cow</td>\n      <td>75.0</td>\n    </tr>\n    <tr>\n      <th>5</th>\n      <td>bacon</td>\n      <td>8.0</td>\n      <td>pig</td>\n      <td>pig</td>\n      <td>80.0</td>\n    </tr>\n    <tr>\n      <th>6</th>\n      <td>pastrami</td>\n      <td>3.0</td>\n      <td>cow</td>\n      <td>cow</td>\n      <td>30.0</td>\n    </tr>\n    <tr>\n      <th>7</th>\n      <td>honey ham</td>\n      <td>5.0</td>\n      <td>pig</td>\n      <td>pig</td>\n      <td>50.0</td>\n    </tr>\n    <tr>\n      <th>8</th>\n      <td>nova lox</td>\n      <td>6.0</td>\n      <td>salmon</td>\n      <td>salmon</td>\n      <td>60.0</td>\n    </tr>\n  </tbody>\n</table>\n</div>"
          },
          "metadata": {}
        }
      ],
      "id": "12f00236-974e-41ec-a14b-f789d4e4ea3a"
    },
    {
      "cell_type": "code",
      "source": "data.drop('animal2',axis='columns',inplace=True)\ndata",
      "metadata": {
        "trusted": true
      },
      "execution_count": 59,
      "outputs": [
        {
          "execution_count": 59,
          "output_type": "execute_result",
          "data": {
            "text/plain": "          food  ounces  animal\n0        bacon     4.0     pig\n1  pulled pork     3.0     pig\n2        bacon    12.0     pig\n3     pastrami     6.0     cow\n4  corned beef     7.5     cow\n5        bacon     8.0     pig\n6     pastrami     3.0     cow\n7    honey ham     5.0     pig\n8     nova lox     6.0  salmon",
            "text/html": "<div>\n<style scoped>\n    .dataframe tbody tr th:only-of-type {\n        vertical-align: middle;\n    }\n\n    .dataframe tbody tr th {\n        vertical-align: top;\n    }\n\n    .dataframe thead th {\n        text-align: right;\n    }\n</style>\n<table border=\"1\" class=\"dataframe\">\n  <thead>\n    <tr style=\"text-align: right;\">\n      <th></th>\n      <th>food</th>\n      <th>ounces</th>\n      <th>animal</th>\n    </tr>\n  </thead>\n  <tbody>\n    <tr>\n      <th>0</th>\n      <td>bacon</td>\n      <td>4.0</td>\n      <td>pig</td>\n    </tr>\n    <tr>\n      <th>1</th>\n      <td>pulled pork</td>\n      <td>3.0</td>\n      <td>pig</td>\n    </tr>\n    <tr>\n      <th>2</th>\n      <td>bacon</td>\n      <td>12.0</td>\n      <td>pig</td>\n    </tr>\n    <tr>\n      <th>3</th>\n      <td>pastrami</td>\n      <td>6.0</td>\n      <td>cow</td>\n    </tr>\n    <tr>\n      <th>4</th>\n      <td>corned beef</td>\n      <td>7.5</td>\n      <td>cow</td>\n    </tr>\n    <tr>\n      <th>5</th>\n      <td>bacon</td>\n      <td>8.0</td>\n      <td>pig</td>\n    </tr>\n    <tr>\n      <th>6</th>\n      <td>pastrami</td>\n      <td>3.0</td>\n      <td>cow</td>\n    </tr>\n    <tr>\n      <th>7</th>\n      <td>honey ham</td>\n      <td>5.0</td>\n      <td>pig</td>\n    </tr>\n    <tr>\n      <th>8</th>\n      <td>nova lox</td>\n      <td>6.0</td>\n      <td>salmon</td>\n    </tr>\n  </tbody>\n</table>\n</div>"
          },
          "metadata": {}
        }
      ],
      "id": "5a476f7c-2aff-48b1-9e63-28eafdb90192"
    },
    {
      "cell_type": "code",
      "source": "#Series function from pandas are used to create arrays\ndata = pd.Series([1., -999., 2., -999., -1000., 3.])\ndata\n0       1.0\n1    -999.0\n2       2.0\n3    -999.0\n4   -1000.0\n5       3.0\ndtype: float64\n\n\n#replace -999 with NaN values\ndata.replace(-999, np.nan,inplace=True)\ndata\n0       1.0\n1       NaN\n2       2.0\n3       NaN\n4   -1000.0\n5       3.0\ndtype: float64\n\n\n#We can also replace multiple values at once.\ndata = pd.Series([1., -999., 2., -999., -1000., 3.])\ndata.replace([-999,-1000],np.nan,inplace=True)\ndata\n0    1.0\n1    NaN\n2    2.0\n3    NaN\n4    NaN\n5    3.0\ndtype: float64",
      "metadata": {
        "trusted": true
      },
      "execution_count": null,
      "outputs": [],
      "id": "41a642dc-5951-4417-a762-48f1b47ed65a"
    },
    {
      "cell_type": "code",
      "source": "data = pd.DataFrame(np.arange(12).reshape((3, 4)),index=['Ohio', 'Colorado', 'New York'],columns=['one', 'two', 'three', 'four'])\ndata",
      "metadata": {
        "trusted": true
      },
      "execution_count": 61,
      "outputs": [
        {
          "execution_count": 61,
          "output_type": "execute_result",
          "data": {
            "text/plain": "          one  two  three  four\nOhio        0    1      2     3\nColorado    4    5      6     7\nNew York    8    9     10    11",
            "text/html": "<div>\n<style scoped>\n    .dataframe tbody tr th:only-of-type {\n        vertical-align: middle;\n    }\n\n    .dataframe tbody tr th {\n        vertical-align: top;\n    }\n\n    .dataframe thead th {\n        text-align: right;\n    }\n</style>\n<table border=\"1\" class=\"dataframe\">\n  <thead>\n    <tr style=\"text-align: right;\">\n      <th></th>\n      <th>one</th>\n      <th>two</th>\n      <th>three</th>\n      <th>four</th>\n    </tr>\n  </thead>\n  <tbody>\n    <tr>\n      <th>Ohio</th>\n      <td>0</td>\n      <td>1</td>\n      <td>2</td>\n      <td>3</td>\n    </tr>\n    <tr>\n      <th>Colorado</th>\n      <td>4</td>\n      <td>5</td>\n      <td>6</td>\n      <td>7</td>\n    </tr>\n    <tr>\n      <th>New York</th>\n      <td>8</td>\n      <td>9</td>\n      <td>10</td>\n      <td>11</td>\n    </tr>\n  </tbody>\n</table>\n</div>"
          },
          "metadata": {}
        }
      ],
      "id": "2681107a-6eb1-4597-bfee-36c7e9be69aa"
    },
    {
      "cell_type": "code",
      "source": "#Using rename function\ndata.rename(index = {'Ohio':'SanF'}, columns={'one':'one_p','two':'two_p'},inplace=True)\ndata",
      "metadata": {
        "trusted": true
      },
      "execution_count": 62,
      "outputs": [
        {
          "execution_count": 62,
          "output_type": "execute_result",
          "data": {
            "text/plain": "          one_p  two_p  three  four\nSanF          0      1      2     3\nColorado      4      5      6     7\nNew York      8      9     10    11",
            "text/html": "<div>\n<style scoped>\n    .dataframe tbody tr th:only-of-type {\n        vertical-align: middle;\n    }\n\n    .dataframe tbody tr th {\n        vertical-align: top;\n    }\n\n    .dataframe thead th {\n        text-align: right;\n    }\n</style>\n<table border=\"1\" class=\"dataframe\">\n  <thead>\n    <tr style=\"text-align: right;\">\n      <th></th>\n      <th>one_p</th>\n      <th>two_p</th>\n      <th>three</th>\n      <th>four</th>\n    </tr>\n  </thead>\n  <tbody>\n    <tr>\n      <th>SanF</th>\n      <td>0</td>\n      <td>1</td>\n      <td>2</td>\n      <td>3</td>\n    </tr>\n    <tr>\n      <th>Colorado</th>\n      <td>4</td>\n      <td>5</td>\n      <td>6</td>\n      <td>7</td>\n    </tr>\n    <tr>\n      <th>New York</th>\n      <td>8</td>\n      <td>9</td>\n      <td>10</td>\n      <td>11</td>\n    </tr>\n  </tbody>\n</table>\n</div>"
          },
          "metadata": {}
        }
      ],
      "id": "62585c41-9ff8-40cb-8610-b38391f7a02b"
    },
    {
      "cell_type": "code",
      "source": "#You can also use string functions\ndata.rename(index = str.upper, columns=str.title,inplace=True)\ndata",
      "metadata": {
        "trusted": true
      },
      "execution_count": 63,
      "outputs": [
        {
          "execution_count": 63,
          "output_type": "execute_result",
          "data": {
            "text/plain": "          One_P  Two_P  Three  Four\nSANF          0      1      2     3\nCOLORADO      4      5      6     7\nNEW YORK      8      9     10    11",
            "text/html": "<div>\n<style scoped>\n    .dataframe tbody tr th:only-of-type {\n        vertical-align: middle;\n    }\n\n    .dataframe tbody tr th {\n        vertical-align: top;\n    }\n\n    .dataframe thead th {\n        text-align: right;\n    }\n</style>\n<table border=\"1\" class=\"dataframe\">\n  <thead>\n    <tr style=\"text-align: right;\">\n      <th></th>\n      <th>One_P</th>\n      <th>Two_P</th>\n      <th>Three</th>\n      <th>Four</th>\n    </tr>\n  </thead>\n  <tbody>\n    <tr>\n      <th>SANF</th>\n      <td>0</td>\n      <td>1</td>\n      <td>2</td>\n      <td>3</td>\n    </tr>\n    <tr>\n      <th>COLORADO</th>\n      <td>4</td>\n      <td>5</td>\n      <td>6</td>\n      <td>7</td>\n    </tr>\n    <tr>\n      <th>NEW YORK</th>\n      <td>8</td>\n      <td>9</td>\n      <td>10</td>\n      <td>11</td>\n    </tr>\n  </tbody>\n</table>\n</div>"
          },
          "metadata": {}
        }
      ],
      "id": "8d1288a5-b168-47d5-a119-d6403b106f9b"
    },
    {
      "cell_type": "code",
      "source": "#Understand the output - '(' means the value is included in the bin, '[' means the value is excluded\nbins = [18, 25, 35, 60, 100]\ncats = pd.cut(ages, bins)\ncats\n[(18, 25], (18, 25], (18, 25], (25, 35], (18, 25], ..., (25, 35], (60, 100], (35, 60], (35, 60], (25, 35]]\nLength: 12\nCategories (4, object): [(18, 25] < (25, 35] < (35, 60] < (60, 100]]\n\n\n#To include the right bin value, we can do:\npd.cut(ages,bins,right=False)\n[[18, 25), [18, 25), [25, 35), [25, 35), [18, 25), ..., [25, 35), [60, 100), [35, 60), [35, 60), [25, 35)]\nLength: 12\nCategories (4, object): [[18, 25) < [25, 35) < [35, 60) < [60, 100)]\n\n\n#pandas library intrinsically assigns an encoding to categorical variables.\ncats.labels\narray([0, 0, 0, 1, 0, 0, 2, 1, 3, 2, 2, 1], dtype=int8)\n\n\n#Let's check how many observations fall under each bin\npd.value_counts(cats)\n(18, 25]     5\n(35, 60]     3\n(25, 35]     3\n(60, 100]    1\ndtype: int64",
      "metadata": {
        "trusted": true
      },
      "execution_count": null,
      "outputs": [],
      "id": "4d8a4652-fc28-4c02-9a21-964f0f914f63"
    },
    {
      "cell_type": "code",
      "source": "bin_names = ['Youth', 'YoungAdult', 'MiddleAge', 'Senior']\nnew_cats = pd.cut(ages, bins,labels=bin_names)\n\npd.value_counts(new_cats)",
      "metadata": {
        "trusted": true
      },
      "execution_count": null,
      "outputs": [],
      "id": "858b38b0-e84e-47b4-842f-49d729e97194"
    },
    {
      "cell_type": "code",
      "source": "#we can also calculate their cumulative sum\npd.value_counts(new_cats).cumsum()",
      "metadata": {
        "trusted": true
      },
      "execution_count": null,
      "outputs": [],
      "id": "9aa605e4-c0b7-47f1-8f48-d11b63ddfc03"
    },
    {
      "cell_type": "code",
      "source": "df = pd.DataFrame({'key1' : ['a', 'a', 'b', 'b', 'a'],\n                   'key2' : ['one', 'two', 'one', 'two', 'one'],\n                   'data1' : np.random.randn(5),\n                   'data2' : np.random.randn(5)})\ndf\n",
      "metadata": {
        "trusted": true
      },
      "execution_count": 67,
      "outputs": [
        {
          "execution_count": 67,
          "output_type": "execute_result",
          "data": {
            "text/plain": "  key1 key2     data1     data2\n0    a  one  1.315959 -0.668717\n1    a  two  0.304533  0.461923\n2    b  one -0.064225 -1.543550\n3    b  two  0.017214  0.718232\n4    a  one -0.441993 -1.023977",
            "text/html": "<div>\n<style scoped>\n    .dataframe tbody tr th:only-of-type {\n        vertical-align: middle;\n    }\n\n    .dataframe tbody tr th {\n        vertical-align: top;\n    }\n\n    .dataframe thead th {\n        text-align: right;\n    }\n</style>\n<table border=\"1\" class=\"dataframe\">\n  <thead>\n    <tr style=\"text-align: right;\">\n      <th></th>\n      <th>key1</th>\n      <th>key2</th>\n      <th>data1</th>\n      <th>data2</th>\n    </tr>\n  </thead>\n  <tbody>\n    <tr>\n      <th>0</th>\n      <td>a</td>\n      <td>one</td>\n      <td>1.315959</td>\n      <td>-0.668717</td>\n    </tr>\n    <tr>\n      <th>1</th>\n      <td>a</td>\n      <td>two</td>\n      <td>0.304533</td>\n      <td>0.461923</td>\n    </tr>\n    <tr>\n      <th>2</th>\n      <td>b</td>\n      <td>one</td>\n      <td>-0.064225</td>\n      <td>-1.543550</td>\n    </tr>\n    <tr>\n      <th>3</th>\n      <td>b</td>\n      <td>two</td>\n      <td>0.017214</td>\n      <td>0.718232</td>\n    </tr>\n    <tr>\n      <th>4</th>\n      <td>a</td>\n      <td>one</td>\n      <td>-0.441993</td>\n      <td>-1.023977</td>\n    </tr>\n  </tbody>\n</table>\n</div>"
          },
          "metadata": {}
        }
      ],
      "id": "2174d3db-e658-42e9-833d-914ef3f6c277"
    },
    {
      "cell_type": "code",
      "source": "#calculate the mean of data1 column by key1\ngrouped = df['data1'].groupby(df['key1'])\ngrouped.mean()\nkey1\na    0.595757\nb    1.019769\nName: data1, dtype: float64",
      "metadata": {
        "trusted": true
      },
      "execution_count": null,
      "outputs": [],
      "id": "10873810-5fa3-4535-a8a6-5da5f38b3f94"
    },
    {
      "cell_type": "code",
      "source": "dates = pd.date_range('20130101',periods=6)\ndf = pd.DataFrame(np.random.randn(6,4),index=dates,columns=list('ABCD'))\ndf",
      "metadata": {
        "trusted": true
      },
      "execution_count": 69,
      "outputs": [
        {
          "execution_count": 69,
          "output_type": "execute_result",
          "data": {
            "text/plain": "                   A         B         C         D\n2013-01-01  0.817731  1.613476 -0.459654 -0.435401\n2013-01-02 -0.776843 -0.770918 -1.065359 -0.296088\n2013-01-03  0.865920  0.295965  1.043908 -1.160778\n2013-01-04 -0.118062  0.052610  0.186717 -1.491824\n2013-01-05 -0.263376 -0.742996 -0.351610 -0.239199\n2013-01-06  0.402459 -0.570138 -0.036750  0.126572",
            "text/html": "<div>\n<style scoped>\n    .dataframe tbody tr th:only-of-type {\n        vertical-align: middle;\n    }\n\n    .dataframe tbody tr th {\n        vertical-align: top;\n    }\n\n    .dataframe thead th {\n        text-align: right;\n    }\n</style>\n<table border=\"1\" class=\"dataframe\">\n  <thead>\n    <tr style=\"text-align: right;\">\n      <th></th>\n      <th>A</th>\n      <th>B</th>\n      <th>C</th>\n      <th>D</th>\n    </tr>\n  </thead>\n  <tbody>\n    <tr>\n      <th>2013-01-01</th>\n      <td>0.817731</td>\n      <td>1.613476</td>\n      <td>-0.459654</td>\n      <td>-0.435401</td>\n    </tr>\n    <tr>\n      <th>2013-01-02</th>\n      <td>-0.776843</td>\n      <td>-0.770918</td>\n      <td>-1.065359</td>\n      <td>-0.296088</td>\n    </tr>\n    <tr>\n      <th>2013-01-03</th>\n      <td>0.865920</td>\n      <td>0.295965</td>\n      <td>1.043908</td>\n      <td>-1.160778</td>\n    </tr>\n    <tr>\n      <th>2013-01-04</th>\n      <td>-0.118062</td>\n      <td>0.052610</td>\n      <td>0.186717</td>\n      <td>-1.491824</td>\n    </tr>\n    <tr>\n      <th>2013-01-05</th>\n      <td>-0.263376</td>\n      <td>-0.742996</td>\n      <td>-0.351610</td>\n      <td>-0.239199</td>\n    </tr>\n    <tr>\n      <th>2013-01-06</th>\n      <td>0.402459</td>\n      <td>-0.570138</td>\n      <td>-0.036750</td>\n      <td>0.126572</td>\n    </tr>\n  </tbody>\n</table>\n</div>"
          },
          "metadata": {}
        }
      ],
      "id": "188c808b-9611-47d8-b971-38ea18c4b312"
    },
    {
      "cell_type": "code",
      "source": "#get first n rows from the data frame\ndf[:3]",
      "metadata": {
        "trusted": true
      },
      "execution_count": 72,
      "outputs": [
        {
          "execution_count": 72,
          "output_type": "execute_result",
          "data": {
            "text/plain": "                   A         B         C         D\n2013-01-01  0.817731  1.613476 -0.459654 -0.435401\n2013-01-02 -0.776843 -0.770918 -1.065359 -0.296088\n2013-01-03  0.865920  0.295965  1.043908 -1.160778",
            "text/html": "<div>\n<style scoped>\n    .dataframe tbody tr th:only-of-type {\n        vertical-align: middle;\n    }\n\n    .dataframe tbody tr th {\n        vertical-align: top;\n    }\n\n    .dataframe thead th {\n        text-align: right;\n    }\n</style>\n<table border=\"1\" class=\"dataframe\">\n  <thead>\n    <tr style=\"text-align: right;\">\n      <th></th>\n      <th>A</th>\n      <th>B</th>\n      <th>C</th>\n      <th>D</th>\n    </tr>\n  </thead>\n  <tbody>\n    <tr>\n      <th>2013-01-01</th>\n      <td>0.817731</td>\n      <td>1.613476</td>\n      <td>-0.459654</td>\n      <td>-0.435401</td>\n    </tr>\n    <tr>\n      <th>2013-01-02</th>\n      <td>-0.776843</td>\n      <td>-0.770918</td>\n      <td>-1.065359</td>\n      <td>-0.296088</td>\n    </tr>\n    <tr>\n      <th>2013-01-03</th>\n      <td>0.865920</td>\n      <td>0.295965</td>\n      <td>1.043908</td>\n      <td>-1.160778</td>\n    </tr>\n  </tbody>\n</table>\n</div>"
          },
          "metadata": {}
        }
      ],
      "id": "4702f7d3-3380-447b-b2ff-86048861a803"
    },
    {
      "cell_type": "code",
      "source": "#slice based on date range\ndf['20130101':'20130104']",
      "metadata": {
        "trusted": true
      },
      "execution_count": 71,
      "outputs": [
        {
          "execution_count": 71,
          "output_type": "execute_result",
          "data": {
            "text/plain": "                   A         B         C         D\n2013-01-01  0.817731  1.613476 -0.459654 -0.435401\n2013-01-02 -0.776843 -0.770918 -1.065359 -0.296088\n2013-01-03  0.865920  0.295965  1.043908 -1.160778\n2013-01-04 -0.118062  0.052610  0.186717 -1.491824",
            "text/html": "<div>\n<style scoped>\n    .dataframe tbody tr th:only-of-type {\n        vertical-align: middle;\n    }\n\n    .dataframe tbody tr th {\n        vertical-align: top;\n    }\n\n    .dataframe thead th {\n        text-align: right;\n    }\n</style>\n<table border=\"1\" class=\"dataframe\">\n  <thead>\n    <tr style=\"text-align: right;\">\n      <th></th>\n      <th>A</th>\n      <th>B</th>\n      <th>C</th>\n      <th>D</th>\n    </tr>\n  </thead>\n  <tbody>\n    <tr>\n      <th>2013-01-01</th>\n      <td>0.817731</td>\n      <td>1.613476</td>\n      <td>-0.459654</td>\n      <td>-0.435401</td>\n    </tr>\n    <tr>\n      <th>2013-01-02</th>\n      <td>-0.776843</td>\n      <td>-0.770918</td>\n      <td>-1.065359</td>\n      <td>-0.296088</td>\n    </tr>\n    <tr>\n      <th>2013-01-03</th>\n      <td>0.865920</td>\n      <td>0.295965</td>\n      <td>1.043908</td>\n      <td>-1.160778</td>\n    </tr>\n    <tr>\n      <th>2013-01-04</th>\n      <td>-0.118062</td>\n      <td>0.052610</td>\n      <td>0.186717</td>\n      <td>-1.491824</td>\n    </tr>\n  </tbody>\n</table>\n</div>"
          },
          "metadata": {}
        }
      ],
      "id": "82cad254-02d8-4bad-ad58-bfe694a054e5"
    },
    {
      "cell_type": "code",
      "source": "#slicing based on column names\ndf.loc[:,['A','B']]",
      "metadata": {
        "trusted": true
      },
      "execution_count": 73,
      "outputs": [
        {
          "execution_count": 73,
          "output_type": "execute_result",
          "data": {
            "text/plain": "                   A         B\n2013-01-01  0.817731  1.613476\n2013-01-02 -0.776843 -0.770918\n2013-01-03  0.865920  0.295965\n2013-01-04 -0.118062  0.052610\n2013-01-05 -0.263376 -0.742996\n2013-01-06  0.402459 -0.570138",
            "text/html": "<div>\n<style scoped>\n    .dataframe tbody tr th:only-of-type {\n        vertical-align: middle;\n    }\n\n    .dataframe tbody tr th {\n        vertical-align: top;\n    }\n\n    .dataframe thead th {\n        text-align: right;\n    }\n</style>\n<table border=\"1\" class=\"dataframe\">\n  <thead>\n    <tr style=\"text-align: right;\">\n      <th></th>\n      <th>A</th>\n      <th>B</th>\n    </tr>\n  </thead>\n  <tbody>\n    <tr>\n      <th>2013-01-01</th>\n      <td>0.817731</td>\n      <td>1.613476</td>\n    </tr>\n    <tr>\n      <th>2013-01-02</th>\n      <td>-0.776843</td>\n      <td>-0.770918</td>\n    </tr>\n    <tr>\n      <th>2013-01-03</th>\n      <td>0.865920</td>\n      <td>0.295965</td>\n    </tr>\n    <tr>\n      <th>2013-01-04</th>\n      <td>-0.118062</td>\n      <td>0.052610</td>\n    </tr>\n    <tr>\n      <th>2013-01-05</th>\n      <td>-0.263376</td>\n      <td>-0.742996</td>\n    </tr>\n    <tr>\n      <th>2013-01-06</th>\n      <td>0.402459</td>\n      <td>-0.570138</td>\n    </tr>\n  </tbody>\n</table>\n</div>"
          },
          "metadata": {}
        }
      ],
      "id": "e1ef349f-2e65-48fe-b8e2-9c1ce37bea65"
    },
    {
      "cell_type": "code",
      "source": "#slicing based on both row index labels and column names\ndf.loc['20130102':'20130103',['A','B']]\n#returns a specific range of rows\ndf.iloc[2:4, 0:2]",
      "metadata": {
        "trusted": true
      },
      "execution_count": 74,
      "outputs": [
        {
          "execution_count": 74,
          "output_type": "execute_result",
          "data": {
            "text/plain": "                   A         B\n2013-01-03  0.865920  0.295965\n2013-01-04 -0.118062  0.052610",
            "text/html": "<div>\n<style scoped>\n    .dataframe tbody tr th:only-of-type {\n        vertical-align: middle;\n    }\n\n    .dataframe tbody tr th {\n        vertical-align: top;\n    }\n\n    .dataframe thead th {\n        text-align: right;\n    }\n</style>\n<table border=\"1\" class=\"dataframe\">\n  <thead>\n    <tr style=\"text-align: right;\">\n      <th></th>\n      <th>A</th>\n      <th>B</th>\n    </tr>\n  </thead>\n  <tbody>\n    <tr>\n      <th>2013-01-03</th>\n      <td>0.865920</td>\n      <td>0.295965</td>\n    </tr>\n    <tr>\n      <th>2013-01-04</th>\n      <td>-0.118062</td>\n      <td>0.052610</td>\n    </tr>\n  </tbody>\n</table>\n</div>"
          },
          "metadata": {}
        }
      ],
      "id": "1c79e992-9c3f-4671-a3e1-7f1be5484f4a"
    },
    {
      "cell_type": "code",
      "source": "#returns specific rows and columns using lists containing columns or row indexes\ndf.iloc[[1,5],[0,2]] ",
      "metadata": {
        "trusted": true
      },
      "execution_count": 75,
      "outputs": [
        {
          "execution_count": 75,
          "output_type": "execute_result",
          "data": {
            "text/plain": "                   A         C\n2013-01-02 -0.776843 -1.065359\n2013-01-06  0.402459 -0.036750",
            "text/html": "<div>\n<style scoped>\n    .dataframe tbody tr th:only-of-type {\n        vertical-align: middle;\n    }\n\n    .dataframe tbody tr th {\n        vertical-align: top;\n    }\n\n    .dataframe thead th {\n        text-align: right;\n    }\n</style>\n<table border=\"1\" class=\"dataframe\">\n  <thead>\n    <tr style=\"text-align: right;\">\n      <th></th>\n      <th>A</th>\n      <th>C</th>\n    </tr>\n  </thead>\n  <tbody>\n    <tr>\n      <th>2013-01-02</th>\n      <td>-0.776843</td>\n      <td>-1.065359</td>\n    </tr>\n    <tr>\n      <th>2013-01-06</th>\n      <td>0.402459</td>\n      <td>-0.036750</td>\n    </tr>\n  </tbody>\n</table>\n</div>"
          },
          "metadata": {}
        }
      ],
      "id": "4e80204c-a83b-4dd7-8f46-5c13501c84a0"
    },
    {
      "cell_type": "code",
      "source": "#create a data frame\ndata = pd.DataFrame({'group': ['a', 'a', 'a', 'b','b', 'b', 'c', 'c','c'],\n                 'ounces': [4, 3, 12, 6, 7.5, 8, 3, 5, 6]})\ndata",
      "metadata": {
        "trusted": true
      },
      "execution_count": 76,
      "outputs": [
        {
          "execution_count": 76,
          "output_type": "execute_result",
          "data": {
            "text/plain": "  group  ounces\n0     a     4.0\n1     a     3.0\n2     a    12.0\n3     b     6.0\n4     b     7.5\n5     b     8.0\n6     c     3.0\n7     c     5.0\n8     c     6.0",
            "text/html": "<div>\n<style scoped>\n    .dataframe tbody tr th:only-of-type {\n        vertical-align: middle;\n    }\n\n    .dataframe tbody tr th {\n        vertical-align: top;\n    }\n\n    .dataframe thead th {\n        text-align: right;\n    }\n</style>\n<table border=\"1\" class=\"dataframe\">\n  <thead>\n    <tr style=\"text-align: right;\">\n      <th></th>\n      <th>group</th>\n      <th>ounces</th>\n    </tr>\n  </thead>\n  <tbody>\n    <tr>\n      <th>0</th>\n      <td>a</td>\n      <td>4.0</td>\n    </tr>\n    <tr>\n      <th>1</th>\n      <td>a</td>\n      <td>3.0</td>\n    </tr>\n    <tr>\n      <th>2</th>\n      <td>a</td>\n      <td>12.0</td>\n    </tr>\n    <tr>\n      <th>3</th>\n      <td>b</td>\n      <td>6.0</td>\n    </tr>\n    <tr>\n      <th>4</th>\n      <td>b</td>\n      <td>7.5</td>\n    </tr>\n    <tr>\n      <th>5</th>\n      <td>b</td>\n      <td>8.0</td>\n    </tr>\n    <tr>\n      <th>6</th>\n      <td>c</td>\n      <td>3.0</td>\n    </tr>\n    <tr>\n      <th>7</th>\n      <td>c</td>\n      <td>5.0</td>\n    </tr>\n    <tr>\n      <th>8</th>\n      <td>c</td>\n      <td>6.0</td>\n    </tr>\n  </tbody>\n</table>\n</div>"
          },
          "metadata": {}
        }
      ],
      "id": "f75d9c59-a745-48db-8ef7-d2eeb861c38f"
    },
    {
      "cell_type": "code",
      "source": "",
      "metadata": {},
      "execution_count": null,
      "outputs": [],
      "id": "41d75b7c-b441-4f46-98a6-5276b2fb6903"
    }
  ]
}